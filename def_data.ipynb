{
 "cells": [
  {
   "cell_type": "code",
   "execution_count": 154,
   "metadata": {},
   "outputs": [],
   "source": [
    "# users = 3\n",
    "# lst = [\"dinesh\",\"pallav\"]\n",
    "lst = []\n",
    "# dict = {}"
   ]
  },
  {
   "cell_type": "code",
   "execution_count": 142,
   "metadata": {},
   "outputs": [],
   "source": [
    "def validate_name():\n",
    "    name = input(\"enter name:\")\n",
    "    # names_list = []\n",
    "    if len(lst) == 0:\n",
    "        return name\n",
    "    else:\n",
    "        if name in lst:\n",
    "            print(\"Name already exists.Please enter different name..!\")\n",
    "            name = validate_name()\n",
    "        # return name\n",
    "        else:\n",
    "            # print(\"new name:\" + name)\n",
    "            return name\n",
    "    return name"
   ]
  },
  {
   "cell_type": "code",
   "execution_count": 156,
   "metadata": {},
   "outputs": [],
   "source": [
    "var1 = validate_name()\n",
    "# print(var1)\n",
    "if var1 is not None and var1 != '':\n",
    "    name = var1\n",
    "\n",
    "    lst.append(name)\n"
   ]
  },
  {
   "cell_type": "code",
   "execution_count": 157,
   "metadata": {},
   "outputs": [
    {
     "name": "stdout",
     "output_type": "stream",
     "text": [
      "['dinesh']\n"
     ]
    }
   ],
   "source": [
    "print(lst)"
   ]
  }
 ],
 "metadata": {
  "interpreter": {
   "hash": "8b40bb6c87e142e3c56d715b1c5ebd196401c1ea0770447aa9fec8f14e8f76ec"
  },
  "kernelspec": {
   "display_name": "Python 3.10.2 ('.venv': venv)",
   "language": "python",
   "name": "python3"
  },
  "language_info": {
   "codemirror_mode": {
    "name": "ipython",
    "version": 3
   },
   "file_extension": ".py",
   "mimetype": "text/x-python",
   "name": "python",
   "nbconvert_exporter": "python",
   "pygments_lexer": "ipython3",
   "version": "3.10.2"
  },
  "orig_nbformat": 4
 },
 "nbformat": 4,
 "nbformat_minor": 2
}
